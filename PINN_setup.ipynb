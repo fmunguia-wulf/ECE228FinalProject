{
 "cells": [
  {
   "cell_type": "code",
   "execution_count": 1,
   "id": "84bb71bb-05d0-482c-8a5f-882cc68134ea",
   "metadata": {},
   "outputs": [],
   "source": [
    "import torch\n",
    "import torch.nn as nn\n",
    "from torch.autograd import grad"
   ]
  },
  {
   "cell_type": "code",
   "execution_count": 4,
   "id": "41785a6e-0af1-4fa7-a838-455748804533",
   "metadata": {},
   "outputs": [],
   "source": [
    "# Multi-layer Perceptron\n",
    "class PINN(nn.Module):\n",
    "    \"\"\"\n",
    "    Physics-Informed Neural Network (PINN) that models one scalar physical quantity\n",
    "    (e.g., electron density n_e, electron temperature T_e, or electric potential φ)\n",
    "    as a function of spatiotemporal coordinates (x, y, t).\n",
    "\n",
    "    This class corresponds to a single fully-connected neural network used in the\n",
    "    multi-network PINN architecture described in:\n",
    "\n",
    "        \"Uncovering turbulent plasma dynamics via deep learning from partial observations\"\n",
    "        by Mathews et al.\n",
    "\n",
    "    Each PINN instance:\n",
    "        - Takes input tensor (x, y, t)\n",
    "        - Returns a scalar output corresponding to the predicted field value\n",
    "        - Uses 5 hidden layers with 50 neurons and tanh activations\n",
    "\n",
    "    In the original paper:\n",
    "        - Networks for n_e and T_e are supervised by observational data and physics loss\n",
    "        - The φ network is learned implicitly through its role in the PDEs (not supervised directly)\n",
    "    \"\"\"\n",
    "    def __init__(self, layers=[3, 50, 50, 50, 50, 1]):\n",
    "        super().__init__()\n",
    "        modules = []\n",
    "        for i in range(len(layers) - 2):\n",
    "            modules.append(nn.Linear(layers[i], layers[i + 1]))\n",
    "            modules.append(nn.Tanh())\n",
    "        modules.append(nn.Linear(layers[-2], layers[-1]))\n",
    "        self.net = nn.Sequential(*modules)\n",
    "\n",
    "    def forward(self, xyt):\n",
    "        return self.net(xyt)    "
   ]
  },
  {
   "cell_type": "code",
   "execution_count": 5,
   "id": "4bf13a5b-3b5c-420d-9d9a-beeb23248d09",
   "metadata": {},
   "outputs": [],
   "source": [
    "# Losses\n",
    "def compute_grad(output, coords):\n",
    "    return grad(output, coords, torch.ones_like(output), create_graph=True)[0]\n",
    "\n",
    "def physics_residual_ne(ne_net, Te_net, phi_net, coords):\n",
    "    coords.requires_grad_(True)\n",
    "    ne = ne_net(coords)\n",
    "    phi = phi_net(coords)\n",
    "\n",
    "    dt_ne = compute_grad(ne, coords)[:, 2]  # ∂ne/∂t\n",
    "    # Placeholder residual, replace with full PDE terms\n",
    "    residual = dt_ne + phi\n",
    "    return torch.mean(residual ** 2)\n",
    "\n",
    "def data_loss(pred, target):\n",
    "    return torch.mean((pred - target) ** 2)"
   ]
  },
  {
   "cell_type": "code",
   "execution_count": 6,
   "id": "604128c1-b3fc-4434-8600-22cc0165670a",
   "metadata": {},
   "outputs": [
    {
     "name": "stdout",
     "output_type": "stream",
     "text": [
      "Epoch 0, Loss: 3.6717e-01\n",
      "Epoch 100, Loss: 4.6088e-04\n",
      "Epoch 200, Loss: 1.4676e-04\n",
      "Epoch 300, Loss: 8.9036e-05\n",
      "Epoch 400, Loss: 6.3831e-05\n",
      "Epoch 500, Loss: 4.7203e-05\n",
      "Epoch 600, Loss: 3.6377e-05\n",
      "Epoch 700, Loss: 2.9317e-05\n",
      "Epoch 800, Loss: 2.4488e-05\n",
      "Epoch 900, Loss: 2.0926e-05\n"
     ]
    }
   ],
   "source": [
    "# Create networks\n",
    "ne_net = PINN()\n",
    "Te_net = PINN()\n",
    "phi_net = PINN()\n",
    "\n",
    "# Dummy data\n",
    "xyt_obs = torch.rand(500, 3)\n",
    "ne_obs = torch.sin(xyt_obs[:, 0])\n",
    "xyt_phys = torch.rand(500, 3)\n",
    "\n",
    "# Optimizer\n",
    "optimizer = torch.optim.Adam(\n",
    "    list(ne_net.parameters()) + \n",
    "    list(Te_net.parameters()) + \n",
    "    list(phi_net.parameters()), lr=1e-3\n",
    ")\n",
    "\n",
    "for epoch in range(1000):\n",
    "    optimizer.zero_grad()\n",
    "    ne_pred = ne_net(xyt_obs).squeeze()\n",
    "    loss_d = data_loss(ne_pred, ne_obs)\n",
    "    loss_p = physics_residual_ne(ne_net, Te_net, phi_net, xyt_phys)\n",
    "    total_loss = loss_d + loss_p\n",
    "    total_loss.backward()\n",
    "    optimizer.step()\n",
    "\n",
    "    if epoch % 100 == 0:\n",
    "        print(f\"Epoch {epoch}, Loss: {total_loss.item():.4e}\")"
   ]
  },
  {
   "cell_type": "code",
   "execution_count": null,
   "id": "b91a4c71-7f6e-4c2d-9b26-79c755698cec",
   "metadata": {},
   "outputs": [],
   "source": []
  }
 ],
 "metadata": {
  "kernelspec": {
   "display_name": "Python 3 (ipykernel)",
   "language": "python",
   "name": "python3"
  },
  "language_info": {
   "codemirror_mode": {
    "name": "ipython",
    "version": 3
   },
   "file_extension": ".py",
   "mimetype": "text/x-python",
   "name": "python",
   "nbconvert_exporter": "python",
   "pygments_lexer": "ipython3",
   "version": "3.10.16"
  }
 },
 "nbformat": 4,
 "nbformat_minor": 5
}
